{
 "cells": [
  {
   "cell_type": "markdown",
   "metadata": {},
   "source": [
    "# House Building1\n",
    "\n",
    "## 単純な問題\n",
    "各工程の期間、依存関係のみが制約"
   ]
  },
  {
   "cell_type": "markdown",
   "metadata": {},
   "source": [
    "元リンク\n",
    "\n",
    "https://ibmdecisionoptimization.github.io/tutorials/html/Scheduling_Tutorial.html"
   ]
  },
  {
   "cell_type": "markdown",
   "metadata": {},
   "source": [
    "API reference\n",
    "\n",
    "https://ibmdecisionoptimization.github.io/docplex-doc/cp/docplex.cp.expression.py.html"
   ]
  },
  {
   "cell_type": "code",
   "execution_count": null,
   "metadata": {},
   "outputs": [],
   "source": [
    "# 工程名\n",
    "TaskNames = [\"masonry\", \"carpentry\", \"plumbing\", \n",
    "             \"ceiling\", \"roofing\", \"painting\", \n",
    "             \"windows\", \"facade\", \"garden\", \"moving\"]\n",
    "\n",
    "# 工程毎の期間\n",
    "Duration =  [35, 15, 40, 15, 5, 10, 5, 10, 5, 5]\n",
    "\n",
    "# 工程間依存関係\n",
    "Precedences = [(\"masonry\", \"carpentry\"),(\"masonry\", \"plumbing\"),\n",
    "               (\"masonry\", \"ceiling\"), (\"carpentry\", \"roofing\"),\n",
    "               (\"ceiling\", \"painting\"), (\"roofing\", \"windows\"),  \n",
    "               (\"roofing\", \"facade\"), (\"plumbing\", \"facade\"),\n",
    "               (\"roofing\", \"garden\"), (\"plumbing\", \"garden\"),\n",
    "               (\"windows\", \"moving\"), (\"facade\", \"moving\"),  \n",
    "               (\"garden\", \"moving\"), (\"painting\", \"moving\")]"
   ]
  },
  {
   "cell_type": "code",
   "execution_count": null,
   "metadata": {},
   "outputs": [],
   "source": [
    "# ライブラリのimportとモデルのインスタンス作成\n",
    "\n",
    "import sys\n",
    "from docplex.cp.model import *\n",
    "mdl0 = CpoModel()"
   ]
  },
  {
   "cell_type": "code",
   "execution_count": null,
   "metadata": {},
   "outputs": [],
   "source": [
    "# 工程ごとの期間の定義\n",
    "\n",
    "# タスク名からInterval変数を引く辞書\n",
    "itvs = {}\n",
    "\n",
    "# Interval変数の定義\n",
    "# タスク名\n",
    "for i,taskName in enumerate(TaskNames):\n",
    "    itvs[taskName] = mdl0.interval_var(size=Duration[i], name=taskName)"
   ]
  },
  {
   "cell_type": "code",
   "execution_count": null,
   "metadata": {},
   "outputs": [],
   "source": [
    "# タスク間の依存関係定義\n",
    "\n",
    "for p in Precedences:\n",
    "    mdl0.add(mdl0.end_before_start(itvs[p[0]], itvs[p[1]]) )"
   ]
  },
  {
   "cell_type": "code",
   "execution_count": null,
   "metadata": {},
   "outputs": [],
   "source": [
    "# モデルを解く\n",
    "\n",
    "print(\"\\nSolving model....\")\n",
    "msol0 = mdl0.solve(TimeLimit=10)\n",
    "print(\"done\")"
   ]
  },
  {
   "cell_type": "code",
   "execution_count": null,
   "metadata": {},
   "outputs": [],
   "source": [
    "# 結果表示\n",
    "\n",
    "for taskName in TaskNames:\n",
    "    var_sol = msol0.get_var_solution(taskName)\n",
    "    print(f\"{taskName} : {var_sol.get_start()}..{var_sol.get_end()}\")"
   ]
  },
  {
   "cell_type": "code",
   "execution_count": null,
   "metadata": {},
   "outputs": [],
   "source": [
    "# グラフ化\n",
    "\n",
    "import docplex.cp.utils_visu as visu\n",
    "import matplotlib.pyplot as plt\n",
    "%matplotlib inline\n",
    "#Change the plot size\n",
    "from pylab import rcParams\n",
    "rcParams['figure.figsize'] = 15, 3\n",
    "\n",
    "for taskName in TaskNames:\n",
    "    wt = msol0.get_var_solution(taskName)\n",
    "    visu.interval(wt, 'lightblue', taskName)  \n",
    "visu.show()"
   ]
  },
  {
   "cell_type": "code",
   "execution_count": null,
   "metadata": {},
   "outputs": [],
   "source": []
  }
 ],
 "metadata": {
  "kernelspec": {
   "display_name": "Python 3",
   "language": "python",
   "name": "python3"
  },
  "language_info": {
   "codemirror_mode": {
    "name": "ipython",
    "version": 3
   },
   "file_extension": ".py",
   "mimetype": "text/x-python",
   "name": "python",
   "nbconvert_exporter": "python",
   "pygments_lexer": "ipython3",
   "version": "3.7.3"
  }
 },
 "nbformat": 4,
 "nbformat_minor": 2
}
