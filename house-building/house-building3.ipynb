{
 "cells": [
  {
   "cell_type": "markdown",
   "metadata": {},
   "source": [
    "# House Building 3"
   ]
  },
  {
   "cell_type": "markdown",
   "metadata": {},
   "source": [
    "## より複雑な問題"
   ]
  },
  {
   "cell_type": "markdown",
   "metadata": {},
   "source": [
    "* 5件の家を、JoeとJimの2人で建てる  \n",
    "* 工程毎に担当者が決まっている\n",
    "* 別の家に移る場合は遷移時間がかかる\n",
    "* 家毎にReleaseDate以降に着手する必要がある\n",
    "* 家毎にDueDateが決まっている。遅れてもいいが、Weightで規定されるコストが余分にかかる\n",
    "* 評価関数は「遅延によるコスト」+「家毎の建築期間」でこれを最小化する"
   ]
  },
  {
   "cell_type": "markdown",
   "metadata": {},
   "source": [
    "元リンク\n",
    "\n",
    "https://ibmdecisionoptimization.github.io/tutorials/html/Scheduling_Tutorial.html"
   ]
  },
  {
   "cell_type": "markdown",
   "metadata": {},
   "source": [
    "API reference\n",
    "\n",
    "https://ibmdecisionoptimization.github.io/docplex-doc/cp/docplex.cp.expression.py.html"
   ]
  },
  {
   "cell_type": "code",
   "execution_count": null,
   "metadata": {},
   "outputs": [],
   "source": [
    "# 家の件数\n",
    "NbHouses = 5\n",
    "\n",
    "# 作業者\n",
    "WorkerNames = [\"Joe\", \"Jim\"]\n",
    "\n",
    "# 工程名\n",
    "TaskNames = [\"masonry\", \"carpentry\", \"plumbing\", \n",
    "             \"ceiling\", \"roofing\", \"painting\", \n",
    "             \"windows\", \"facade\", \"garden\", \"moving\"]\n",
    "\n",
    "# 工程毎の期間\n",
    "Duration =  [35, 15, 40, 15, 5, 10, 5, 10, 5, 5]\n",
    "\n",
    "# 工程毎の作業者分担\n",
    "Worker = {\"masonry\"  : \"Joe\" , \n",
    "          \"carpentry\": \"Joe\" , \n",
    "          \"plumbing\" : \"Jim\" , \n",
    "          \"ceiling\"  : \"Jim\" , \n",
    "          \"roofing\"  : \"Joe\" , \n",
    "          \"painting\" : \"Jim\" , \n",
    "          \"windows\"  : \"Jim\" , \n",
    "          \"facade\"   : \"Joe\" , \n",
    "          \"garden\"   : \"Joe\" , \n",
    "          \"moving\"   : \"Jim\"}\n",
    "\n",
    "# 着手日 (必ず守る必要あり)\n",
    "ReleaseDate = [  0,     0,   151,    59,   243]\n",
    "\n",
    "# 終了日 (遅れていいがコストが発生)\n",
    "DueDate     = [120,   212,   304,   181,   425]\n",
    "\n",
    "# 遅延コスト\n",
    "Weight      = [100.0, 100.0, 100.0, 200.0, 100.0]\n",
    "\n",
    "# 工程間依存関係\n",
    "Precedences = [(\"masonry\", \"carpentry\"),(\"masonry\", \"plumbing\"),\n",
    "               (\"masonry\", \"ceiling\"), (\"carpentry\", \"roofing\"),\n",
    "               (\"ceiling\", \"painting\"), (\"roofing\", \"windows\"),  \n",
    "               (\"roofing\", \"facade\"), (\"plumbing\", \"facade\"),\n",
    "               (\"roofing\", \"garden\"), (\"plumbing\", \"garden\"),\n",
    "               (\"windows\", \"moving\"), (\"facade\", \"moving\"),  \n",
    "               (\"garden\", \"moving\"), (\"painting\", \"moving\")]\n",
    "\n",
    "# 家IDのリスト([0, 1, 2, 3, 4])を生成\n",
    "Houses = range(NbHouses)"
   ]
  },
  {
   "cell_type": "code",
   "execution_count": null,
   "metadata": {},
   "outputs": [],
   "source": [
    "# ライブラリのインポートとモデルインスタンスの生成\n",
    "\n",
    "import sys\n",
    "from docplex.cp.model import *\n",
    "mdl2 = CpoModel()"
   ]
  },
  {
   "cell_type": "code",
   "execution_count": null,
   "metadata": {},
   "outputs": [],
   "source": [
    "# housesは家毎のInterval変数の配列\n",
    "# 開始日はReleaseDateにより個別に指定\n",
    "\n",
    "houses = [mdl2.interval_var(start=(ReleaseDate[i], INTERVAL_MAX), name=\"house\"+str(i)) for i in Houses]"
   ]
  },
  {
   "cell_type": "code",
   "execution_count": null,
   "metadata": {},
   "outputs": [],
   "source": [
    "# <house_id>_<タスク名>でタスクごとのラベルを振る\n",
    "# 辞書 TaskNames_ids はタスク毎のラベルからタスクIDを取得するための辞書\n",
    "# itvsは、(house_id, task_id)から該当するInterval変数を取得するための辞書\n",
    "# タスク毎の期間(size)はDurationで決められている値を初期設定する\n",
    "\n",
    "TaskNames_ids = {}\n",
    "itvs = {}\n",
    "for h in Houses:\n",
    "    for i,t in enumerate(TaskNames):\n",
    "        _name = str(h)+\"_\"+str(t)\n",
    "        itvs[(h,t)] = mdl2.interval_var(size=Duration[i], name=_name)\n",
    "        TaskNames_ids[_name] = i"
   ]
  },
  {
   "cell_type": "code",
   "execution_count": null,
   "metadata": {},
   "outputs": [],
   "source": [
    "# itvsの辞書の内容確認\n",
    "\n",
    "print(itvs[(3, 'masonry')])"
   ]
  },
  {
   "cell_type": "code",
   "execution_count": null,
   "metadata": {},
   "outputs": [],
   "source": [
    "# タスク間の依存関係定義\n",
    "\n",
    "for h in Houses:\n",
    "    for p in Precedences:\n",
    "        mdl2.add(mdl2.end_before_start(itvs[(h,p[0])], itvs[(h,p[1])]) )"
   ]
  },
  {
   "cell_type": "code",
   "execution_count": null,
   "metadata": {},
   "outputs": [],
   "source": [
    "# span制約の設定\n",
    "\n",
    "# 家のInterval変数は、個別タスクの集計で定まる。その関係をspan制約で設定\n",
    "for h in Houses:\n",
    "    mdl2.add( mdl2.span(houses[h], [itvs[(h,t)] for t in TaskNames] ) )"
   ]
  },
  {
   "cell_type": "code",
   "execution_count": null,
   "metadata": {},
   "outputs": [],
   "source": [
    "# 遷移時間の設定　\n",
    "\n",
    "# 複数のタスク間の遷移時間を設定する\n",
    "# (タスク間で対象の家を変える場合のコスト定義)\n",
    "transitionTimes = transition_matrix(NbHouses)\n",
    "for i in Houses:\n",
    "    for j in Houses:\n",
    "        transitionTimes.set_value(i, j, int(abs(i - j)))"
   ]
  },
  {
   "cell_type": "code",
   "execution_count": null,
   "metadata": {},
   "outputs": [],
   "source": [
    "# workersの定義\n",
    "\n",
    "# 作業者(Joe, Jim)ごとにシーケンス変数として定義\n",
    "workers = {w : mdl2.sequence_var([ itvs[(h,t)] for h in Houses for t in TaskNames if Worker[t]==w ], \n",
    "                                types=[h for h in Houses for t in TaskNames if Worker[t]==w ], name=\"workers_\"+w)   \n",
    "           for w in WorkerNames}"
   ]
  },
  {
   "cell_type": "code",
   "execution_count": null,
   "metadata": {},
   "outputs": [],
   "source": [
    "print(workers['Jim'])"
   ]
  },
  {
   "cell_type": "code",
   "execution_count": null,
   "metadata": {},
   "outputs": [],
   "source": [
    "# 作業者は同時に一つのタスクしかできない\n",
    "# タスク間で家を変更する場合は遷移時間が必要\n",
    "\n",
    "for w in WorkerNames:\n",
    "    mdl2.add( mdl2.no_overlap(workers[w], transitionTimes) )"
   ]
  },
  {
   "cell_type": "code",
   "execution_count": null,
   "metadata": {},
   "outputs": [],
   "source": [
    "# 目的関数の定義\n",
    "# 「遅延コスト」+「建築期間」を家毎に集計した値を最小化する\n",
    "\n",
    "mdl2.add( \n",
    "    mdl2.minimize( \n",
    "        mdl2.sum(Weight[h] * mdl2.max([0, mdl2.end_of(houses[h])-DueDate[h]]) +\\\n",
    "                 mdl2.length_of(houses[h]) for h in Houses) \n",
    "    ) \n",
    ")"
   ]
  },
  {
   "cell_type": "code",
   "execution_count": null,
   "metadata": {},
   "outputs": [],
   "source": [
    "# モデルを解く\n",
    "\n",
    "print(\"\\nSolving model....\")\n",
    "msol2 = mdl2.solve(FailLimit=30000)\n",
    "print(\"done\")"
   ]
  },
  {
   "cell_type": "code",
   "execution_count": null,
   "metadata": {},
   "outputs": [],
   "source": [
    "# 目的関数値の確認\n",
    "\n",
    "print(\"Cost will be \" + str(msol2.get_objective_values()[0]))"
   ]
  },
  {
   "cell_type": "code",
   "execution_count": null,
   "metadata": {},
   "outputs": [],
   "source": [
    "# 結果のグラフ表示\n",
    "# グラフをダブルクリックすると詳細表示になる\n",
    "\n",
    "import docplex.cp.utils_visu as visu\n",
    "import matplotlib.pyplot as plt\n",
    "%matplotlib inline\n",
    "#Change the plot size\n",
    "from pylab import rcParams\n",
    "rcParams['figure.figsize'] = 50,  3\n",
    "\n",
    "def showsequence(msol, s, setup, tp):\n",
    "    seq = msol.get_var_solution(s)\n",
    "    visu.sequence(name=s.get_name())\n",
    "    vs = seq.get_value()\n",
    "    for v in vs:\n",
    "        nm = v.get_name()\n",
    "        visu.interval(v, tp[TaskNames_ids[nm]], nm)\n",
    "    for i in range(len(vs) - 1):\n",
    "        end = vs[i].get_end()\n",
    "        tp1 = tp[TaskNames_ids[vs[i].get_name()]]\n",
    "        tp2 = tp[TaskNames_ids[vs[i + 1].get_name()]]\n",
    "        visu.transition(end, end + setup.get_value(tp1, tp2))\n",
    "\n",
    "visu.timeline(\"Solution for SchedSetup\")\n",
    "for w in WorkerNames:\n",
    "    types=[h for h in Houses for t in TaskNames if Worker[t]==w]\n",
    "    showsequence(msol2, workers[w], transitionTimes, types)\n",
    "visu.show()"
   ]
  },
  {
   "cell_type": "code",
   "execution_count": null,
   "metadata": {},
   "outputs": [],
   "source": []
  }
 ],
 "metadata": {
  "kernelspec": {
   "display_name": "Python 3",
   "language": "python",
   "name": "python3"
  },
  "language_info": {
   "codemirror_mode": {
    "name": "ipython",
    "version": 3
   },
   "file_extension": ".py",
   "mimetype": "text/x-python",
   "name": "python",
   "nbconvert_exporter": "python",
   "pygments_lexer": "ipython3",
   "version": "3.7.3"
  }
 },
 "nbformat": 4,
 "nbformat_minor": 2
}
