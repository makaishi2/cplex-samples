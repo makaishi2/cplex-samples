{
 "cells": [
  {
   "cell_type": "markdown",
   "metadata": {},
   "source": [
    "# House Building 3"
   ]
  },
  {
   "cell_type": "markdown",
   "metadata": {},
   "source": [
    "## より複雑な問題"
   ]
  },
  {
   "cell_type": "markdown",
   "metadata": {},
   "source": [
    "* 5件の家を、JoeとJimの2人で建てる  \n",
    "* 工程ごとに担当者が決まっている\n",
    "* 家ごとにReleaseDate以降に着手する必要がある\n",
    "* 家ごとにDueDateが決まっている。遅れてもいいが、Weightで規定されるコストが余分にかかる\n",
    "* 評価関数は「遅延によるコスト」+「家ごとの建築期間」でこれを最小化する"
   ]
  },
  {
   "cell_type": "markdown",
   "metadata": {},
   "source": [
    "元リンク\n",
    "\n",
    "https://ibmdecisionoptimization.github.io/tutorials/html/Scheduling_Tutorial.html"
   ]
  },
  {
   "cell_type": "markdown",
   "metadata": {},
   "source": [
    "API reference\n",
    "\n",
    "https://ibmdecisionoptimization.github.io/docplex-doc/cp/docplex.cp.expression.py.html"
   ]
  },
  {
   "cell_type": "code",
   "execution_count": 1,
   "metadata": {},
   "outputs": [],
   "source": [
    "# 工程名\n",
    "TaskNames = [\"masonry\", \"carpentry\", \"plumbing\", \n",
    "             \"ceiling\", \"roofing\", \"painting\", \n",
    "             \"windows\", \"facade\", \"garden\", \"moving\"]\n",
    "\n",
    "# 工程毎の期間\n",
    "Duration =  [35, 15, 40, 15, 5, 10, 5, 10, 5, 5]\n",
    "\n",
    "# 工程間依存関係\n",
    "Precedences = [(\"masonry\", \"carpentry\"),(\"masonry\", \"plumbing\"),\n",
    "               (\"masonry\", \"ceiling\"), (\"carpentry\", \"roofing\"),\n",
    "               (\"ceiling\", \"painting\"), (\"roofing\", \"windows\"),  \n",
    "               (\"roofing\", \"facade\"), (\"plumbing\", \"facade\"),\n",
    "               (\"roofing\", \"garden\"), (\"plumbing\", \"garden\"),\n",
    "               (\"windows\", \"moving\"), (\"facade\", \"moving\"),  \n",
    "               (\"garden\", \"moving\"), (\"painting\", \"moving\")]\n",
    "\n",
    "# 家の件数\n",
    "NbHouses = 5\n",
    "\n",
    "# 作業者\n",
    "WorkerNames = [\"Joe\", \"Jim\"]\n",
    "\n",
    "# 工程毎の作業者分担\n",
    "Worker = {\"masonry\"  : \"Joe\" , \n",
    "          \"carpentry\": \"Joe\" , \n",
    "          \"plumbing\" : \"Jim\" , \n",
    "          \"ceiling\"  : \"Jim\" , \n",
    "          \"roofing\"  : \"Joe\" , \n",
    "          \"painting\" : \"Jim\" , \n",
    "          \"windows\"  : \"Jim\" , \n",
    "          \"facade\"   : \"Joe\" , \n",
    "          \"garden\"   : \"Joe\" , \n",
    "          \"moving\"   : \"Jim\"}\n",
    "\n",
    "# 着手日 (必ず守る必要あり)\n",
    "ReleaseDate = [  0,     0,   151,    59,   243]\n",
    "\n",
    "# 終了日 (遅れていいがコストが発生)\n",
    "DueDate     = [120,   212,   304,   181,   425]\n",
    "\n",
    "# 遅延コスト\n",
    "Weight      = [100.0, 100.0, 100.0, 200.0, 100.0]\n",
    "\n",
    "# 家IDのリスト([0, 1, 2, 3, 4])を生成\n",
    "Houses = range(NbHouses)"
   ]
  },
  {
   "cell_type": "code",
   "execution_count": 2,
   "metadata": {},
   "outputs": [],
   "source": [
    "# ライブラリのインポートとモデルインスタンスの生成\n",
    "\n",
    "import sys\n",
    "from docplex.cp.model import *\n",
    "mdl2 = CpoModel()"
   ]
  },
  {
   "cell_type": "code",
   "execution_count": 3,
   "metadata": {},
   "outputs": [],
   "source": [
    "# housesは家毎のInterval変数の配列\n",
    "# 開始日はReleaseDateにより個別に指定\n",
    "\n",
    "houses = [mdl2.interval_var(start=(ReleaseDate[i], INTERVAL_MAX), name=\"house\"+str(i)) for i in Houses]"
   ]
  },
  {
   "cell_type": "code",
   "execution_count": 4,
   "metadata": {},
   "outputs": [],
   "source": [
    "# <house_id>_<タスク名>でタスクごとのラベルを振る\n",
    "# TaskNames_ids: タスク毎のラベルからタスクIDを取得する辞書\n",
    "# itvs: (house_id, task_id)から該当するInterval変数を取得する辞書\n",
    "# タスク毎の期間(size)はDurationで決められている値を初期設定する\n",
    "\n",
    "TaskNames_ids = {}\n",
    "itvs = {}\n",
    "for h in Houses:\n",
    "    for i,t in enumerate(TaskNames):\n",
    "        _name = str(h)+\"_\"+str(t)\n",
    "        itvs[(h,t)] = mdl2.interval_var(size=Duration[i], name=_name)\n",
    "        TaskNames_ids[_name] = i"
   ]
  },
  {
   "cell_type": "code",
   "execution_count": 5,
   "metadata": {},
   "outputs": [
    {
     "name": "stdout",
     "output_type": "stream",
     "text": [
      "\"3_masonry\" = intervalVar(size=35)\n"
     ]
    }
   ],
   "source": [
    "# itvsの辞書の内容確認\n",
    "\n",
    "print(itvs[(3, 'masonry')])"
   ]
  },
  {
   "cell_type": "code",
   "execution_count": 6,
   "metadata": {},
   "outputs": [],
   "source": [
    "# タスク間の依存関係定義\n",
    "\n",
    "for h in Houses:\n",
    "    for p in Precedences:\n",
    "        mdl2.add(mdl2.end_before_start(itvs[(h,p[0])], itvs[(h,p[1])]) )"
   ]
  },
  {
   "cell_type": "code",
   "execution_count": 7,
   "metadata": {},
   "outputs": [],
   "source": [
    "# span制約の設定\n",
    "\n",
    "# 家のInterval変数は、個別タスクの集計で定まる。その関係をspan関数で設定\n",
    "for h in Houses:\n",
    "    mdl2.add( mdl2.span(houses[h], [itvs[(h,t)] for t in TaskNames] ) )"
   ]
  },
  {
   "cell_type": "code",
   "execution_count": 8,
   "metadata": {},
   "outputs": [],
   "source": [
    "# workersの定義\n",
    "\n",
    "# 作業者(Joe, Jim)ごとのタスクシーケンス変数として定義\n",
    "# シーケンス変数は、次のno_overlap関数で条件の定義として用いられる\n",
    "workers = {w : mdl2.sequence_var([ itvs[(h,t)] for h in Houses for t in TaskNames if Worker[t]==w ], \n",
    "        name=\"workers_\"+w) for w in WorkerNames}"
   ]
  },
  {
   "cell_type": "code",
   "execution_count": 9,
   "metadata": {},
   "outputs": [
    {
     "name": "stdout",
     "output_type": "stream",
     "text": [
      "workers_Jim = sequenceVar([\"0_plumbing\", \"0_ceiling\", \"0_painting\", \"0_windows\", \"0_moving\", \"1_plumbing\", \"1_ceiling\", \"1_painting\", \"1_windows\", \"1_moving\", \"2_plumbing\", \"2_ceiling\", \"2_painting\", \"2_windows\", \"2_moving\", \"3_plumbing\", \"3_ceiling\", \"3_painting\", \"3_windows\", \"3_moving\", \"4_plumbing\", \"4_ceiling\", \"4_painting\", \"4_windows\", \"4_moving\"])\n"
     ]
    }
   ],
   "source": [
    "# 結果の確認('Jim'に対する結果)\n",
    "\n",
    "print(workers['Jim'])"
   ]
  },
  {
   "cell_type": "code",
   "execution_count": 10,
   "metadata": {},
   "outputs": [],
   "source": [
    "# 作業者は同時に一つのタスクしかできないことをno_overlap関数で表現する\n",
    "# (オリジナルのチュートリアルにあった遷移時間の条件は簡略化のため削除)\n",
    "\n",
    "for w in WorkerNames:\n",
    "    mdl2.add( mdl2.no_overlap(workers[w]) )"
   ]
  },
  {
   "cell_type": "code",
   "execution_count": 11,
   "metadata": {},
   "outputs": [],
   "source": [
    "# 目的関数の定義\n",
    "# 「遅延コスト」+「建築期間」を家ごとに集計した値を最小化する\n",
    "\n",
    "mdl2.add( \n",
    "    mdl2.minimize( \n",
    "        mdl2.sum(Weight[h] * mdl2.max([0, mdl2.end_of(houses[h])-DueDate[h]]) +\\\n",
    "                 mdl2.length_of(houses[h]) for h in Houses) \n",
    "    ) \n",
    ")"
   ]
  },
  {
   "cell_type": "code",
   "execution_count": 12,
   "metadata": {},
   "outputs": [
    {
     "name": "stdout",
     "output_type": "stream",
     "text": [
      "\n",
      "Solving model....\n",
      "done\n"
     ]
    }
   ],
   "source": [
    "# モデルを解く\n",
    "\n",
    "print(\"\\nSolving model....\")\n",
    "msol2 = mdl2.solve(FailLimit=30000)\n",
    "print(\"done\")"
   ]
  },
  {
   "cell_type": "code",
   "execution_count": 13,
   "metadata": {},
   "outputs": [
    {
     "name": "stdout",
     "output_type": "stream",
     "text": [
      "Cost will be 9820\n"
     ]
    }
   ],
   "source": [
    "# 目的関数値の確認\n",
    "\n",
    "print(\"Cost will be \" + str(msol2.get_objective_values()[0]))"
   ]
  },
  {
   "cell_type": "code",
   "execution_count": 14,
   "metadata": {},
   "outputs": [
    {
     "name": "stdout",
     "output_type": "stream",
     "text": [
      "Joe 0_masonry 0 35\n",
      "Joe 0_carpentry 35 50\n",
      "Joe 0_roofing 50 55\n",
      "Joe 3_masonry 60 95\n",
      "Joe 0_facade 95 105\n",
      "Joe 0_garden 105 110\n",
      "Joe 3_carpentry 110 125\n",
      "Joe 3_roofing 125 130\n",
      "Joe 1_masonry 130 165\n",
      "Joe 3_facade 165 175\n",
      "Joe 3_garden 175 180\n",
      "Joe 1_carpentry 180 195\n",
      "Joe 1_roofing 195 200\n",
      "Joe 2_masonry 205 240\n",
      "Joe 1_garden 240 245\n",
      "Joe 1_facade 245 255\n",
      "Joe 2_carpentry 255 270\n",
      "Joe 2_roofing 270 275\n",
      "Joe 2_facade 300 310\n",
      "Joe 2_garden 310 315\n",
      "Joe 4_masonry 315 350\n",
      "Joe 4_carpentry 350 365\n",
      "Joe 4_roofing 365 370\n",
      "Joe 4_facade 390 400\n",
      "Joe 4_garden 400 405\n",
      "Jim 0_plumbing 35 75\n",
      "Jim 0_windows 75 80\n",
      "Jim 0_ceiling 80 95\n",
      "Jim 0_painting 95 105\n",
      "Jim 3_ceiling 105 120\n",
      "Jim 0_moving 120 125\n",
      "Jim 3_plumbing 125 165\n",
      "Jim 3_painting 165 175\n",
      "Jim 3_windows 175 180\n",
      "Jim 3_moving 180 185\n",
      "Jim 1_ceiling 185 200\n",
      "Jim 1_plumbing 200 240\n",
      "Jim 1_painting 240 250\n",
      "Jim 1_windows 250 255\n",
      "Jim 1_moving 255 260\n",
      "Jim 2_plumbing 260 300\n",
      "Jim 2_ceiling 300 315\n",
      "Jim 2_painting 315 325\n",
      "Jim 2_windows 325 330\n",
      "Jim 2_moving 330 335\n",
      "Jim 4_plumbing 350 390\n",
      "Jim 4_ceiling 390 405\n",
      "Jim 4_painting 405 415\n",
      "Jim 4_windows 415 420\n",
      "Jim 4_moving 420 425\n"
     ]
    }
   ],
   "source": [
    "# Workerごとの詳細スケジュール確認\n",
    "\n",
    "for worker in WorkerNames:\n",
    "    w_name = 'workers_' + worker\n",
    "    sequence = msol2.get_var_solution(w_name)\n",
    "    intervals = sequence.get_interval_variables()\n",
    "    for interval in intervals:\n",
    "        name = interval.get_name()\n",
    "        start = interval.get_start()\n",
    "        end = interval.get_end()\n",
    "        print(worker, name, start, end)"
   ]
  },
  {
   "cell_type": "code",
   "execution_count": 15,
   "metadata": {},
   "outputs": [],
   "source": [
    "# visu = reload(visu)"
   ]
  },
  {
   "cell_type": "code",
   "execution_count": 16,
   "metadata": {},
   "outputs": [],
   "source": [
    "# グラフ表示\n",
    "\n",
    "# グラフ表示の準備\n",
    "import docplex.cp.utils_visu as visu\n",
    "import matplotlib.pyplot as plt\n",
    "%matplotlib inline\n",
    "from pylab import rcParams"
   ]
  },
  {
   "cell_type": "code",
   "execution_count": 17,
   "metadata": {},
   "outputs": [
    {
     "data": {
      "image/png": "[encoded data removed]",
      "text/plain": [
       "<Figure size 1080x216 with 1 Axes>"
      ]
     },
     "metadata": {
      "needs_background": "light"
     },
     "output_type": "display_data"
    }
   ],
   "source": [
    "# 家単位の建築スケジュール\n",
    "\n",
    "rcParams['figure.figsize'] = 15, 3\n",
    "\n",
    "for h in Houses:\n",
    "    hkey = 'house' + str(h)\n",
    "    wt = msol2.get_var_solution(hkey)\n",
    "    visu.interval(wt, 'lightblue', hkey)\n",
    "visu.show()"
   ]
  },
  {
   "cell_type": "code",
   "execution_count": 18,
   "metadata": {},
   "outputs": [],
   "source": [
    "visu = reload(visu)"
   ]
  },
  {
   "cell_type": "code",
   "execution_count": 19,
   "metadata": {},
   "outputs": [
    {
     "data": {
      "image/png": "[encoded data removed]",
      "text/plain": [
       "<Figure size 5760x216 with 1 Axes>"
      ]
     },
     "metadata": {
      "needs_background": "light"
     },
     "output_type": "display_data"
    }
   ],
   "source": [
    "# 作業者単位の建築スケジュール\n",
    "# ダブルクリックで拡大表示されます\n",
    "\n",
    "rcParams['figure.figsize'] = 80, 3\n",
    "\n",
    "for worker in WorkerNames:\n",
    "    name = 'workers_' + worker\n",
    "    seq = msol2.get_var_solution(name)\n",
    "    visu.sequence(name=name, intervals=seq)\n",
    "visu.show()"
   ]
  },
  {
   "cell_type": "code",
   "execution_count": null,
   "metadata": {},
   "outputs": [],
   "source": []
  },
  {
   "cell_type": "code",
   "execution_count": null,
   "metadata": {},
   "outputs": [],
   "source": []
  }
 ],
 "metadata": {
  "kernelspec": {
   "display_name": "Python 3",
   "language": "python",
   "name": "python3"
  },
  "language_info": {
   "codemirror_mode": {
    "name": "ipython",
    "version": 3
   },
   "file_extension": ".py",
   "mimetype": "text/x-python",
   "name": "python",
   "nbconvert_exporter": "python",
   "pygments_lexer": "ipython3",
   "version": "3.7.3"
  }
 },
 "nbformat": 4,
 "nbformat_minor": 2
}
